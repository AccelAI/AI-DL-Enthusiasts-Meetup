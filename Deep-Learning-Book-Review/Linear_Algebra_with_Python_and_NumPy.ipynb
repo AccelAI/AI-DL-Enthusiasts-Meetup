{
 "cells": [
  {
   "cell_type": "markdown",
   "metadata": {},
   "source": [
    "# Linear Algebra with Python and NumPy"
   ]
  },
  {
   "cell_type": "code",
   "execution_count": 1,
   "metadata": {},
   "outputs": [],
   "source": [
    "# First, we need to import the package NumPy, which is the library enabling all the fun with algebraic structures.\n",
    "from numpy import *"
   ]
  },
  {
   "cell_type": "markdown",
   "metadata": {},
   "source": [
    "## Complex Numbers"
   ]
  },
  {
   "cell_type": "markdown",
   "metadata": {},
   "source": [
    "A complex number is a number of the form $z = x + jy$, where $x$ and $y$ are real numbers and $j$ is the **_imaginary unit_**, satisfying $j^2 = −1$. Note that the imaginary unit, often denoted as $i$, is denoted as $j$ in Python.\n",
    "\n",
    "The set $\\mathbb{C}$ of all complex numbers can be actually defined as the set of ordered pairs of real numbers $\\{(x,y) \\mid x,y\\in\\mathbb{R} \\}$ that satisfies the following operations\n",
    "\n",
    "<img  src=\"https://betterexplained.com/wp-content/uploads/complex/complex_conjugates.png\" style=\"float:right\"/>\n",
    "\n",
    "- *addition:* $(a,b)+(c,d) = (a+c,b+d)$\n",
    "- *multiplication:* $(a,b)\\cdot(c,d) = (ac-bd,ad+bc)$\n",
    "\n",
    "Then, it is just a matter of notation to express a complex number as $(x, y)$ or as $x + jy$.\n",
    "\n",
    "When we have a complex number $z\\in\\mathbb{C}$, we can denote its real and imaginary part as\n",
    "\n",
    "$$ x = \\Re(z), \\quad y = \\Im(z). $$\n",
    "\n",
    "The **_complex conjugate_** of the complex number $z = x + jy$ is denoted by either $\\bar{z}$ or $z^*$ and defined as\n",
    "\n",
    "$$\\bar{z} = x − jy .$$\n",
    "\n",
    "The **_absolute value_** (or modulus or magnitude) of a complex number $z = x + jy$ is\n",
    "\n",
    "$$ | z | = \\sqrt{x^2+y^2} = \\sqrt{z \\bar{z}} .$$"
   ]
  },
  {
   "cell_type": "code",
   "execution_count": 2,
   "metadata": {},
   "outputs": [
    {
     "name": "stdout",
     "output_type": "stream",
     "text": [
      "('z =', (3+4j))\n",
      "('Re(z) =', 3.0)\n",
      "('Im(z) =', 4.0)\n",
      "('|z| =', 5.0)\n"
     ]
    }
   ],
   "source": [
    "z = 3 + 4j                  # Define complex number z\n",
    "print('z =', z)             \n",
    "print('Re(z) =', real(z))   # Get real part of z\n",
    "print('Im(z) =', imag(z))   # Get imaginary part of z\n",
    "print('|z| =', abs(z))      # Get absolute value of z"
   ]
  },
  {
   "cell_type": "markdown",
   "metadata": {},
   "source": [
    "Note that to obtain $j=\\sqrt{-1}$ we must write the argument of `sqrt` function as a complex number (even if has zero imaginary part), otherwise Python tries to compute sqrt on real numbers and throws an error."
   ]
  },
  {
   "cell_type": "code",
   "execution_count": 3,
   "metadata": {},
   "outputs": [
    {
     "name": "stdout",
     "output_type": "stream",
     "text": [
      "('sqrt(-1) =', 1j)\n"
     ]
    }
   ],
   "source": [
    "z = sqrt(-1+0j)\n",
    "print('sqrt(-1) =', z)"
   ]
  },
  {
   "cell_type": "markdown",
   "metadata": {},
   "source": [
    "## Vectors and Matrices"
   ]
  },
  {
   "cell_type": "markdown",
   "metadata": {},
   "source": [
    "Using NumPy we can define vectors and matrices with both real or complex elements. Although, in contrast to Matlab, where matrix is the default type, in Python we need to define vectors and matrices as `array` or `matrix` type from NumPy package.\n",
    "\n",
    "<img  src=\"http://www.math.cornell.edu/~mec/Winter2009/RalucaRemus/Lecture1/Images/matrix.gif\"/>"
   ]
  },
  {
   "cell_type": "code",
   "execution_count": 5,
   "metadata": {},
   "outputs": [
    {
     "name": "stdout",
     "output_type": "stream",
     "text": [
      "[10 20 30]\n",
      "(3,)\n"
     ]
    }
   ],
   "source": [
    "a = array([10,20,30])   # Define a vector of size 3 using type 'array'\n",
    "print(a)\n",
    "print(a.shape)          # Size/shape of vector"
   ]
  },
  {
   "cell_type": "code",
   "execution_count": 6,
   "metadata": {},
   "outputs": [
    {
     "name": "stdout",
     "output_type": "stream",
     "text": [
      "[[10 20 30]]\n",
      "(1, 3)\n"
     ]
    }
   ],
   "source": [
    "b = matrix('10 20 30')  # Define a vector of size 3 using type 'matrix'\n",
    "print(b)\n",
    "print(b.shape)          # Size/shape of vector"
   ]
  },
  {
   "cell_type": "code",
   "execution_count": 7,
   "metadata": {},
   "outputs": [
    {
     "name": "stdout",
     "output_type": "stream",
     "text": [
      "[ 10.  12.  14.  16.  18.  20.]\n"
     ]
    }
   ],
   "source": [
    "c = linspace(10,20,6)   # Define vector as 6 values evenly spaced from 10 to 20\n",
    "print(c)"
   ]
  },
  {
   "cell_type": "markdown",
   "metadata": {},
   "source": [
    "Note that matrix and array elements in Python are indexed from 0, in contrast to Matlab where indexing starts from 1."
   ]
  },
  {
   "cell_type": "code",
   "execution_count": 8,
   "metadata": {},
   "outputs": [
    {
     "name": "stdout",
     "output_type": "stream",
     "text": [
      "[ 10.  12.  14.  16.  18.  20.]\n",
      "10.0\n",
      "20.0\n",
      "[ 10.  12.  14.]\n",
      "[ 16.  18.  20.]\n",
      "[ 14.  16.]\n"
     ]
    }
   ],
   "source": [
    "print(c[:])     # Get all elements\n",
    "print(c[0])     # The first element\n",
    "print(c[-1])    # The last element\n",
    "print(c[:3])    # The first 3 elements\n",
    "print(c[-3:])   # The last 3 elemnets\n",
    "print(c[2:4])   # 2:4 selects elements of indexes 2 and 3"
   ]
  },
  {
   "cell_type": "markdown",
   "metadata": {},
   "source": [
    "**_Euclidean norm_** of vector is returned by method `numpy.linalg.norm`"
   ]
  },
  {
   "cell_type": "code",
   "execution_count": 9,
   "metadata": {},
   "outputs": [
    {
     "name": "stdout",
     "output_type": "stream",
     "text": [
      "('a =', array([10, 20, 30]))\n",
      "('norm(a) =', 37.416573867739416)\n",
      "('x =', array([ 0.26726124,  0.53452248,  0.80178373]))\n",
      "('norm(x) =', 0.99999999999999989)\n"
     ]
    }
   ],
   "source": [
    "norm = linalg.norm(a)      # Euclidean norm of vector a\n",
    "print('a =', a)\n",
    "print('norm(a) =', norm)\n",
    "\n",
    "x = a/linalg.norm(a)       # Make normalized/unit vector from a\n",
    "print('x =', x)\n",
    "print('norm(x) =', linalg.norm(x))"
   ]
  },
  {
   "cell_type": "markdown",
   "metadata": {},
   "source": [
    "**_Transposition_** of vectors is not so intuitive as in Matlab, especially if a vector is defined as 1D `array` and you cannot distinguish between row and column vector. However, using the keyword `newaxis` it's possible to shape the vector into 2D array (as matrix of size $1 \\times n$ or $n \\times 1$), where transposition makes sense and can be obtained by attribute `.T`."
   ]
  },
  {
   "cell_type": "code",
   "execution_count": 10,
   "metadata": {},
   "outputs": [
    {
     "name": "stdout",
     "output_type": "stream",
     "text": [
      "[[10]\n",
      " [20]\n",
      " [30]]\n",
      "(3, 1)\n",
      "[[10 20 30]]\n"
     ]
    }
   ],
   "source": [
    "x = a[:,newaxis]  # Make column vector from vector a (defined as array)\n",
    "print(x)\n",
    "print(x.shape)    # Now size of column vector is 3x1\n",
    "print(x.T)        # Make row vector by transpostion of column vector"
   ]
  },
  {
   "cell_type": "markdown",
   "metadata": {},
   "source": [
    "If a vector was defined as 2D array of type `matrix`, transportation is not a problem."
   ]
  },
  {
   "cell_type": "code",
   "execution_count": 11,
   "metadata": {},
   "outputs": [
    {
     "name": "stdout",
     "output_type": "stream",
     "text": [
      "[[10]\n",
      " [20]\n",
      " [30]]\n",
      "(3, 1)\n",
      "[[10 20 30]]\n"
     ]
    }
   ],
   "source": [
    "x = b.T           # Make column vector from vector b (defined as matrix)\n",
    "print(x)\n",
    "print(x.shape)    # Now size of column vector is 3x1\n",
    "print(x.T)        # Make row vector by transpostion of column vector"
   ]
  },
  {
   "cell_type": "markdown",
   "metadata": {},
   "source": [
    "**_Matrices_** can be defined as 2D arrays of type `array` or `matrix` (there is no problem with transposition with any type)."
   ]
  },
  {
   "cell_type": "code",
   "execution_count": 12,
   "metadata": {},
   "outputs": [
    {
     "name": "stdout",
     "output_type": "stream",
     "text": [
      "[[11 12 13]\n",
      " [21 22 23]\n",
      " [31 32 33]]\n",
      "(3, 3)\n"
     ]
    }
   ],
   "source": [
    "A = array([[11,12,13], [21,22,23], [31,32,33]])  # Define matrix of size 3x3 as 2D 'array-type'\n",
    "print(A)\n",
    "print(A.shape)"
   ]
  },
  {
   "cell_type": "code",
   "execution_count": 13,
   "metadata": {},
   "outputs": [
    {
     "name": "stdout",
     "output_type": "stream",
     "text": [
      "[[11 12 13]\n",
      " [21 22 23]\n",
      " [31 32 33]]\n",
      "(3, 3)\n"
     ]
    }
   ],
   "source": [
    "B = matrix('11 12 13; 21 22 23; 31 32 33')  # Define matrix of size 3x3 as 'matrix-type'\n",
    "print(B)\n",
    "print(B.shape)"
   ]
  },
  {
   "cell_type": "code",
   "execution_count": 14,
   "metadata": {},
   "outputs": [
    {
     "name": "stdout",
     "output_type": "stream",
     "text": [
      "12\n",
      "[[11 12 13]]\n",
      "[[11]\n",
      " [21]\n",
      " [31]]\n"
     ]
    }
   ],
   "source": [
    "print(B[0,1])    # Get matrix element at row 0, column 1\n",
    "print(B[0,:])    # Get 1st row of matrix (A[0] returns also 1st row)\n",
    "print(B[:,0])    # Get 1st column of matrix"
   ]
  },
  {
   "cell_type": "code",
   "execution_count": 15,
   "metadata": {},
   "outputs": [
    {
     "name": "stdout",
     "output_type": "stream",
     "text": [
      "[11 21 31]\n",
      "[[11]\n",
      " [21]\n",
      " [31]]\n"
     ]
    }
   ],
   "source": [
    "print(A[:,0])   # Note that column from 'array-type' matrix is returned as 1D array\n",
    "print(B[:,0])   # Column from 'matrix-type' matrix is returned as true column as expected"
   ]
  },
  {
   "cell_type": "markdown",
   "metadata": {},
   "source": [
    "NumPy can generate some essential matrices exactly like Matlab."
   ]
  },
  {
   "cell_type": "code",
   "execution_count": 16,
   "metadata": {},
   "outputs": [
    {
     "name": "stdout",
     "output_type": "stream",
     "text": [
      "3x3 Matrix full of zeros:\n",
      "[[ 0.  0.  0.]\n",
      " [ 0.  0.  0.]\n",
      " [ 0.  0.  0.]]\n",
      "\n",
      "3x3 Matrix full of ones:\n",
      "[[ 1.  1.  1.]\n",
      " [ 1.  1.  1.]\n",
      " [ 1.  1.  1.]]\n",
      "\n",
      "3x3 identity matrix:\n",
      "[[ 1.  0.  0.]\n",
      " [ 0.  1.  0.]\n",
      " [ 0.  0.  1.]]\n",
      "\n",
      "3x3 diagonal matrix:\n",
      "[[ 1.  0.  0.]\n",
      " [ 0.  2.  0.]\n",
      " [ 0.  0.  3.]]\n",
      "\n",
      "3x3 random matrix:\n",
      "[[ 0.57488073  0.37926603  0.50942703]\n",
      " [ 0.30616018  0.31027854  0.95497125]\n",
      " [ 0.94306375  0.12918588  0.50445312]]\n"
     ]
    }
   ],
   "source": [
    "print('3x3 Matrix full of zeros:')\n",
    "print(zeros([3,3]))\n",
    "\n",
    "print('\\n3x3 Matrix full of ones:')\n",
    "print(ones([3,3]))\n",
    "\n",
    "print('\\n3x3 identity matrix:')\n",
    "print(eye(3))\n",
    "\n",
    "print('\\n3x3 diagonal matrix:')\n",
    "x = array([1.,2.,3.])\n",
    "print(diag(x))\n",
    "\n",
    "print('\\n3x3 random matrix:')\n",
    "print(random.rand(3,3))"
   ]
  },
  {
   "cell_type": "markdown",
   "metadata": {},
   "source": [
    "For merging matrices or vectors methods `numpy.hstack` and `numpy.vstack` can be used."
   ]
  },
  {
   "cell_type": "code",
   "execution_count": 17,
   "metadata": {},
   "outputs": [
    {
     "name": "stdout",
     "output_type": "stream",
     "text": [
      "[[ 11.  12.  13.]\n",
      " [ 21.  22.  23.]\n",
      " [ 31.  32.  33.]\n",
      " [  1.   1.   1.]]\n",
      "[[ 11.  12.  13.   1.]\n",
      " [ 21.  22.  23.   1.]\n",
      " [ 31.  32.  33.   1.]]\n",
      "[[ 11.  12.  13.   1.   0.   0.]\n",
      " [ 21.  22.  23.   0.   1.   0.]\n",
      " [ 31.  32.  33.   0.   0.   1.]]\n"
     ]
    }
   ],
   "source": [
    "print(vstack([ A, ones([1,3]) ]))  # Add row vector to matrix\n",
    "print(hstack([ A, ones([3,1]) ]))  # Add column vector to matrix\n",
    "print(hstack([ A, eye(3) ]))       # Merge two matrices horizontally"
   ]
  },
  {
   "cell_type": "markdown",
   "metadata": {},
   "source": [
    "## Operations with Matrices\n",
    "\n",
    "**_Matrix transposition_** is obtained by attribute `.T`"
   ]
  },
  {
   "cell_type": "code",
   "execution_count": 19,
   "metadata": {},
   "outputs": [
    {
     "name": "stdout",
     "output_type": "stream",
     "text": [
      "('Matrix X of size', (2, 5), ':\\n', array([[ 1.,  1.,  1.,  1.,  1.],\n",
      "       [ 1.,  1.,  1.,  1.,  1.]]))\n",
      "('\\nMatrix Y=X.T of size', (5, 2), ':\\n', array([[ 1.,  1.],\n",
      "       [ 1.,  1.],\n",
      "       [ 1.,  1.],\n",
      "       [ 1.,  1.],\n",
      "       [ 1.,  1.]]))\n"
     ]
    }
   ],
   "source": [
    "X = ones([2,5])     # Generate 2x5 matrix full of ones\n",
    "Y = X.T             # Obtain transpose of matrix X\n",
    "\n",
    "print('Matrix X of size', X.shape, ':\\n', X)\n",
    "print('\\nMatrix Y=X.T of size', Y.shape, ':\\n', Y)"
   ]
  },
  {
   "cell_type": "markdown",
   "metadata": {},
   "source": [
    "**_Hermitian transpose_** (or conjugate transpose) of complex matrix $\\mathbf{A}\\in\\mathbb{C}^{m\\times n}$  is obtained by taking the transpose of $\\mathbf{A}$ and then taking the complex conjugate of each element. Note that for real matrices Hermitian transpose and plain transpose does not differ. In NumPy this kind of transposition is obtained by attribute `.H` (exists only for matrix type)."
   ]
  },
  {
   "cell_type": "code",
   "execution_count": 20,
   "metadata": {},
   "outputs": [
    {
     "name": "stdout",
     "output_type": "stream",
     "text": [
      "('Matrix X of size', (2, 5), ':\\n', matrix([[ 3.+4.j,  3.+4.j,  3.+4.j,  3.+4.j,  3.+4.j],\n",
      "        [ 3.+4.j,  3.+4.j,  3.+4.j,  3.+4.j,  3.+4.j]]))\n",
      "('\\nMatrix Y=X.H of size', (5, 2), ':\\n', matrix([[ 3.-4.j,  3.-4.j],\n",
      "        [ 3.-4.j,  3.-4.j],\n",
      "        [ 3.-4.j,  3.-4.j],\n",
      "        [ 3.-4.j,  3.-4.j],\n",
      "        [ 3.-4.j,  3.-4.j]]))\n"
     ]
    }
   ],
   "source": [
    "X = matrix((3+4j)*ones([2,5]))  # Generate matrix full of complex elements 3+4j\n",
    "Y = X.H                         # Obtain Hermitian transpose of matrix X\n",
    "\n",
    "print('Matrix X of size', X.shape, ':\\n', X)\n",
    "print('\\nMatrix Y=X.H of size', Y.shape, ':\\n', Y)"
   ]
  },
  {
   "cell_type": "markdown",
   "metadata": {},
   "source": [
    "**_Matrix multiplication_** must be executed by method for dot product `numpy.dot`. Operator `*` produces only element-wise multiplication in Python."
   ]
  },
  {
   "cell_type": "code",
   "execution_count": 21,
   "metadata": {},
   "outputs": [
    {
     "name": "stdout",
     "output_type": "stream",
     "text": [
      "Matrix A:\n",
      "[[11 12 13]\n",
      " [21 22 23]\n",
      " [31 32 33]]\n",
      "\n",
      "Matrix B:\n",
      "[[ 1.  1.  1.]\n",
      " [ 1.  1.  1.]\n",
      " [ 1.  1.  1.]]\n",
      "\n",
      "Element-wise multiplication A*B:\n",
      "[[ 11.  12.  13.]\n",
      " [ 21.  22.  23.]\n",
      " [ 31.  32.  33.]]\n",
      "\n",
      "Matrix multiplication A by B:\n",
      "[[ 36.  36.  36.]\n",
      " [ 66.  66.  66.]\n",
      " [ 96.  96.  96.]]\n",
      "\n",
      "Matrix multiplication B by A:\n",
      "[[ 63.  66.  69.]\n",
      " [ 63.  66.  69.]\n",
      " [ 63.  66.  69.]]\n"
     ]
    }
   ],
   "source": [
    "print('Matrix A:')\n",
    "print(A)\n",
    "\n",
    "print('\\nMatrix B:')\n",
    "B = ones([3,3])\n",
    "print(B)\n",
    "\n",
    "print('\\nElement-wise multiplication A*B:')\n",
    "print(A*B)\n",
    "\n",
    "print('\\nMatrix multiplication A by B:')\n",
    "print(dot(A,B))\n",
    "\n",
    "print('\\nMatrix multiplication B by A:')\n",
    "print(dot(B,A))"
   ]
  },
  {
   "cell_type": "markdown",
   "metadata": {},
   "source": [
    "There are also methods for essential matrix features like **_Frobenius norm_**, **_rank_** or **_determinant_**."
   ]
  },
  {
   "cell_type": "code",
   "execution_count": 22,
   "metadata": {},
   "outputs": [
    {
     "name": "stdout",
     "output_type": "stream",
     "text": [
      "('Matrix A of size', (3, 3), ':\\n', array([[11, 12, 13],\n",
      "       [21, 22, 23],\n",
      "       [31, 32, 33]]))\n",
      "('\\nFrobenius norm: ||A|| =', 70.441465061425291)\n",
      "('rank(A) =', 2)\n",
      "('det(A) =', -3.3879709074045058e-14)\n"
     ]
    }
   ],
   "source": [
    "print('Matrix A of size', A.shape, ':\\n', A)\n",
    "\n",
    "# Frobenius norm of matrix\n",
    "print('\\nFrobenius norm: ||A|| =', linalg.norm(A))\n",
    "\n",
    "# Rank of matrix\n",
    "print('rank(A) =', linalg.matrix_rank(A))\n",
    "\n",
    "# Determinant of matrix\n",
    "print('det(A) =',  linalg.det(A))"
   ]
  },
  {
   "cell_type": "markdown",
   "metadata": {},
   "source": [
    "In example above, note that the matrix $\\mathbf{A}$ is a singular matrix, because its rank is lower than number of its rows, thus also its detemninat is zero."
   ]
  },
  {
   "cell_type": "markdown",
   "metadata": {},
   "source": [
    "## Conclusion\n",
    "\n",
    "As we can see from this article, Python and NumPy package can be used to perform all the usual matrix manipulations. There are only few annoying things one need to keep in mind when writing Python code. For example, operator `*` applied to matrices doesn't produce matrix product, but only element-wise multiplication. Or vectors, many methods return them just as 1D `array`, so we need to convert them into 2D `array` or `matrix` type first, to be able to distinguish between row and column vector.\n"
   ]
  },
  {
   "cell_type": "markdown",
   "metadata": {},
   "source": [
    "### References:\n",
    "\n",
    "- [Complex numbers](https://en.wikipedia.org/wiki/Complex_number)\n",
    "- [Vectors](https://en.wikipedia.org/wiki/Coordinate_vector)\n",
    "- [Matrix][1]\n",
    "- [Hermitian transpose](https://en.wikipedia.org/wiki/Conjugate_transpose)\n",
    "- [Linear algebra](https://en.wikipedia.org/wiki/Linear_algebra)\n",
    "- [Vector space](https://en.wikipedia.org/wiki/Vector_space)\n",
    "\n",
    "\n",
    "- [NumPy documentation](http://docs.scipy.org/doc/numpy/)\n",
    "- [NumPy for Matlab users](https://docs.scipy.org/doc/numpy-dev/user/numpy-for-matlab-users.html)\n",
    "- [Matplotlib documentation](http://matplotlib.org/)\n",
    "\n",
    "\n",
    "[1]:https://en.wikipedia.org/wiki/Matrix_(mathematics)\n"
   ]
  }
 ],
 "metadata": {
  "kernelspec": {
   "display_name": "Python 2",
   "language": "python",
   "name": "python2"
  },
  "language_info": {
   "codemirror_mode": {
    "name": "ipython",
    "version": 2
   },
   "file_extension": ".py",
   "mimetype": "text/x-python",
   "name": "python",
   "nbconvert_exporter": "python",
   "pygments_lexer": "ipython2",
   "version": "2.7.13"
  }
 },
 "nbformat": 4,
 "nbformat_minor": 2
}
